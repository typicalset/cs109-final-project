{
 "metadata": {
  "name": ""
 },
 "nbformat": 3,
 "nbformat_minor": 0,
 "worksheets": [
  {
   "cells": [
    {
     "cell_type": "heading",
     "level": 1,
     "metadata": {},
     "source": [
      "Topic Reranking Model"
     ]
    },
    {
     "cell_type": "markdown",
     "metadata": {},
     "source": [
      "###Topic Personalization Model\n",
      "\n",
      "\n",
      "We also decided to pursue a topic personalization model similar to the one published by David Sontag et al., \"Probabilistic Models for Personalizing Web Search\". http://research.microsoft.com/en-us/um/people/ryenw/papers/sontagwsdm2012.pdf. Accessed December 11, 2013.\n",
      "\n",
      "In their paper, David Sontag et al. discuss a methodology which involves re-ranking based on user affinities to particular topics as the key ingredient for determining URL relevancy.  \n",
      "\n",
      "Using the example from their paper:\n",
      "\n",
      "\"Consider the query \"Kevin Murphy\", the top search results using Bing are about a hair stylist and an actor. This is not to say that the other results, such as that of Kevin Patrick Murphy (a researcher who frequently publishes in Computer Science) are irrelevant, just that for the generic user they are less likely to be relevant.\" (David Sontag et al., 4-5)\n",
      "\n",
      "Thus, one can improve the quality of the search results if one knew based on historical past searches that the user has a particular affinity to say, actors and entertainment, or famous hair stylists. \n",
      "\n",
      "The first challenge in implementing this model with our data is associated with the fact that all of our data is anonymized. While Sontag et al. take advantage of their dataset containing the words of the queries and the text of the pages that the returned URLs point to, we cannot use their methodology directly and must find another way to extract the possible set of topics.\n",
      "\n",
      "\n",
      "Our model takes advantage of the fact that URLs appearing in the same search result page tend to be highly related with each other. We are thus able to construct a graph of URLs grouped by how frequently they appear together. Furthermore, URL communities in the graph will  represent our space of topics.\n",
      "\n",
      "**Basic Setup**\n",
      "\n",
      "1) Create a graph, where nodes are all the unique URLs shown in the train set, and the edges are the weighted by the frequency of a pair of URLs showing up on the same search page.\n",
      "\n",
      "2) Graph components (irreducible parts of the graph) will be labelled as a topic.\n",
      "\n",
      "3) Where there are very large irreducible components of the graph, use a community detection algorithm to further identify the presence of URL communities. \n",
      "\n",
      "3) Combine the irreducible components of the graph with the communities detected in the last step.\n",
      "\n",
      "4) Map the clicked URLs for all the users in the training dataset to the graph of URLs and topics and determine users affinities to the topics.\n",
      "\n",
      "5) For queries that have been identified as miscategorized, i.e.: the URLs in the search results map to two or more different topics, promote the URLs that belong in the topic the user has a higher affinity for.\n",
      "\n",
      "\n",
      "**Limitations**\n",
      "\n",
      "One of the biggest limitations that comes to mind is that when we initially create the graph of URLs, the URLs are connected if they appeared on the same search results page anywhere in the train set. Given that we are pursuing a model that tries to eliminate the problem of miscategorized queries, the fact that we may accidentally incorporate miscategorized queries into our prediction model should be concerning. Nevertheless, one could argue that the miscategorized URLs, if given enough search result iterations, will be 'marginalized' from the neighboring topic community as that community adds more and more connections within itself."
     ]
    },
    {
     "cell_type": "code",
     "collapsed": false,
     "input": [
      "import string# do all necessary imports\n",
      "import matplotlib.pyplot as plt\n",
      "import numpy as np\n",
      "import string\n",
      "import operator\n",
      "import math\n",
      "import networkx as nx\n",
      "import random\n",
      "from eval import *\n",
      "\n",
      "#import community\n",
      "\n",
      "from collections import defaultdict\n",
      "from collections import Counter\n"
     ],
     "language": "python",
     "metadata": {},
     "outputs": [],
     "prompt_number": 36
    },
    {
     "cell_type": "code",
     "collapsed": false,
     "input": [
      "# define helper classes/functions\n",
      "class FileReader:\n",
      "    def __init__(self, f):\n",
      "        self.f = f\n",
      "        self.next_line = self.f.readline()\n",
      "    def peek_line(self):\n",
      "        return self.next_line\n",
      "    def get_next_line(self):\n",
      "        temp = self.next_line\n",
      "        self.next_line = self.f.readline()\n",
      "        return temp\n",
      "    \n",
      "def parse_metadata(elems):\n",
      "    metadata = {}\n",
      "    metadata['session_id'] = elems[0]\n",
      "    metadata['type_of_record'] = elems[1]\n",
      "    metadata['Day'] = elems[2]\n",
      "    metadata['user_id'] = elems[3]\n",
      "    return metadata\n",
      "\n",
      "def parse_query(elems):\n",
      "    query = {}\n",
      "    query['session_id'] = elems[0]\n",
      "    query['time_passed'] = elems[1]\n",
      "    query['type_of_record'] = elems[2]\n",
      "    query['serp_id'] = elems[3]\n",
      "    query['query_id'] = elems[4]\n",
      "    query['list_of_terms'] = elems[5].split(',')\n",
      "    query['list_of_urls_and_domains'] = elems[6:]\n",
      "    return query\n",
      "\n",
      "def parse_click(elems):\n",
      "    click = {}\n",
      "    click['session_id'] = elems[0]\n",
      "    click['time_passed'] = elems[1]\n",
      "    click['type_of_record'] = elems[2]\n",
      "    click['serp_id'] = elems[3]\n",
      "    click['url_id'] = elems[4]\n",
      "    return click"
     ],
     "language": "python",
     "metadata": {},
     "outputs": [],
     "prompt_number": 37
    },
    {
     "cell_type": "code",
     "collapsed": false,
     "input": [
      "# builds the URL matrix of all the URLs and their connections with each other\n",
      "\n",
      "def build_matrix(filename):\n",
      "    \n",
      "    f = open(filename)\n",
      "    fr = FileReader(f)\n",
      "\n",
      "    urls_matrix = {}\n",
      "\n",
      "    while True:\n",
      "        line = fr.get_next_line().split()\n",
      "        if not line:\n",
      "            break\n",
      "        if line[2] == \"Q\": \n",
      "            query = parse_query(line)\n",
      "            list_of_urls_and_domains = query['list_of_urls_and_domains']\n",
      "        \n",
      "            list_of_urls = []\n",
      "            \n",
      "            for url_domain in list_of_urls_and_domains:\n",
      "                url_domain_split = url_domain.split(',')\n",
      "                list_of_urls.append(url_domain_split[0])\n",
      "            for i, url in enumerate(list_of_urls):\n",
      "                if url not in urls_matrix:\n",
      "                    urls_matrix[url] = {}\n",
      "                for j, url_sim in enumerate(list_of_urls[i:]):\n",
      "                    if url_sim not in urls_matrix[url].keys() and j!=0:    \n",
      "                        urls_matrix[url][url_sim] = 1\n",
      "                    elif j!=0:\n",
      "                        urls_matrix[url][url_sim] += 1\n",
      "    f.close()      \n",
      "    return urls_matrix        \n"
     ],
     "language": "python",
     "metadata": {},
     "outputs": [],
     "prompt_number": 38
    },
    {
     "cell_type": "code",
     "collapsed": false,
     "input": [
      "def convert_graph(matrix):   #matrix must be in dict of dicts form!\n",
      "    g = nx.Graph()\n",
      "    for url in matrix.keys():\n",
      "        g.add_node(url)\n",
      "        for url_pair in matrix[url].keys():\n",
      "            g.add_node(url_pair)\n",
      "            g.add_edge(url, url_pair, weight = matrix[url][url_pair])\n",
      "    return g"
     ],
     "language": "python",
     "metadata": {},
     "outputs": [],
     "prompt_number": 39
    },
    {
     "cell_type": "markdown",
     "metadata": {},
     "source": [
      "Let's build the graph of URLs."
     ]
    },
    {
     "cell_type": "code",
     "collapsed": false,
     "input": [
      "train_file = 'train-1000'\n",
      "urls_matrix_train = build_matrix(train_file)\n",
      "graph_urls = convert_graph(urls_matrix_train)\n"
     ],
     "language": "python",
     "metadata": {},
     "outputs": [],
     "prompt_number": 40
    },
    {
     "cell_type": "markdown",
     "metadata": {},
     "source": [
      "Let's get an idea of the distribution of the number of connection of URLs."
     ]
    },
    {
     "cell_type": "code",
     "collapsed": false,
     "input": [
      "all_urls = graph_urls.nodes(data=False)\n",
      "\n",
      "count_list = []\n",
      "    \n",
      "for url_ in all_urls:\n",
      "    count_ = len(graph_urls[url_].keys())\n",
      "    count_list.append(count_)\n",
      "\n",
      "n, bins, patches = plt.hist(count_list, bins=50, range=(0,1000))\n",
      "plt.xlabel('Number of Connections')\n",
      "plt.ylabel('Count')\n"
     ],
     "language": "python",
     "metadata": {},
     "outputs": [
      {
       "metadata": {},
       "output_type": "pyout",
       "prompt_number": 41,
       "text": [
        "<matplotlib.text.Text at 0x105e41110>"
       ]
      },
      {
       "metadata": {},
       "output_type": "display_data",
       "png": "[encoded data removed]",
       "text": [
        "<matplotlib.figure.Figure at 0x105e64ad0>"
       ]
      }
     ],
     "prompt_number": 41
    },
    {
     "cell_type": "markdown",
     "metadata": {},
     "source": [
      "As we can see from the bar chart, the overwhelming majority of the URLs come from the same search results page, and do not appear in other queries. Let's get some basic metrics about our graph to help illustrate this."
     ]
    },
    {
     "cell_type": "code",
     "collapsed": false,
     "input": [
      "num_URLs = len(graph_urls)\n",
      "\n",
      "bins_list_ = np.bincount(count_list)\n",
      "\n",
      "singlepage_URLs_count = sum(bins_list_[9:12])\n",
      "\n",
      "multipage_URLs_count = sum(bins_list_[13:])\n",
      "\n",
      "ratio_multi = sum(bins_list_[13:])/float(num_URLs)\n",
      "\n",
      "print \"The number of URLs in the graph is: %d\" % num_URLs\n",
      "print \"The number of URLs that appear on a single search-results page is: %d\" % singlepage_URLs_count\n",
      "print \"The number of URLs that appear on more than one search results page is: %d\" % multipage_URLs_count\n",
      "print \"The fraction of multi-page URLs is: %f\" % ratio_multi"
     ],
     "language": "python",
     "metadata": {},
     "outputs": [
      {
       "output_type": "stream",
       "stream": "stdout",
       "text": [
        "The number of URLs in the graph is: 52380\n",
        "The number of URLs that appear on a single search-results page is: 47458\n",
        "The number of URLs that appear on more than one search results page is: 4400\n",
        "The fraction of multi-page URLs is: 0.084002\n"
       ]
      }
     ],
     "prompt_number": 42
    },
    {
     "cell_type": "markdown",
     "metadata": {},
     "source": [
      "The findings of this exploratory analysis are positive: although most URLs appear in only one search query*, a substantial fraction of them are URLs that appear one different queries.\n",
      "\n",
      "*We estimated that the best cutoff for any given URL's connection count and still be part of a single query is 14. If a particular query is repeated, there is a high probability that the search engine will usually replace no more than 3 URLs. Thus, we can be fairly confident that if a URL has 13 or more connected URLs, those connections had to have come from two or more different queries.\n",
      "\n",
      "\n",
      "\n",
      "Let's continue by looking at the sizes of our graph components:"
     ]
    },
    {
     "cell_type": "code",
     "collapsed": false,
     "input": [
      "#This function breaks the graph into irreducible components\n",
      "def create_components(graph):\n",
      "    component_graphs = nx.connected_component_subgraphs(graph)\n",
      "    return component_graphs"
     ],
     "language": "python",
     "metadata": {},
     "outputs": [],
     "prompt_number": 43
    },
    {
     "cell_type": "code",
     "collapsed": false,
     "input": [
      "list_of_graph_sizes = []\n",
      "\n",
      "component_graphs = create_components(graph_urls)\n",
      "\n",
      "for graph_ in component_graphs:\n",
      "    list_of_graph_sizes.append(len(graph_))\n",
      "\n",
      "n, bins, patches = plt.hist(list_of_graph_sizes, bins=50, range=(0,1000))\n",
      "plt.xlabel('Number of URLs in Component')\n",
      "plt.ylabel('Count')\n",
      "\n",
      "#print the 10 largest graph components\n",
      "sorted_URLs_count = sorted(list_of_graph_sizes, reverse = True)\n",
      "\n",
      "print \"The ten largest graph components counts:\" \n",
      "for comp_ in sorted_URLs_count[:10]:\n",
      "    print comp_"
     ],
     "language": "python",
     "metadata": {},
     "outputs": [
      {
       "output_type": "stream",
       "stream": "stdout",
       "text": [
        "The ten largest graph components counts:\n",
        "6073\n",
        "289\n",
        "223\n",
        "154\n",
        "152\n",
        "144\n",
        "144\n",
        "142\n",
        "115\n",
        "114\n"
       ]
      },
      {
       "metadata": {},
       "output_type": "display_data",
       "png": "[encoded data removed]",
       "text": [
        "<matplotlib.figure.Figure at 0x105e640d0>"
       ]
      }
     ],
     "prompt_number": 44
    },
    {
     "cell_type": "markdown",
     "metadata": {},
     "source": [
      "We immediately notice the presence of a disproportionately huge component. While the other components will be treated as their own individual topics, we need to perform further data analysis to distinguish the presence of communities within it.\n",
      "\n",
      "A quick note on why we decided to keep all of the components and make them individual topics. "
     ]
    },
    {
     "cell_type": "markdown",
     "metadata": {},
     "source": [
      "**Partitioning the Large Component**\n",
      "\n",
      "We use a community detection algorithm found here http://perso.crans.org/~aynaud/communities/api.html\n",
      "\n",
      "This is one of the native networkx compatible algorithms. It also happens to be a 'greedy' algorithm so it can easily handle the 100k+ nodes and even greater number of connections between them. The algorithm is based on the Louvian method for community detection in large networks, referenced here: http://perso.uclouvain.be/vincent.blondel/research/louvain.html\n",
      "\n",
      "To use the networkx algorithm, one needs to install the program files, which are provided in the file but can also be downloaded from here: https://bitbucket.org/taynaud/python-louvain)\n",
      "One can then simply install the program in the same directory as this file by running in the command-line:\n",
      "\n",
      "python setup.py install\n",
      "\n",
      "\n",
      "\n"
     ]
    },
    {
     "cell_type": "code",
     "collapsed": false,
     "input": [
      "import community\n",
      "\n",
      "def partition_graph(large_graph):\n",
      "    partition = community.best_partition(large_graph)\n",
      "    \n",
      "    #construct dict keyed on community number\n",
      "    \n",
      "    #Sanity check, see how far the connections go for certain URLs\n",
      "    communities = {}\n",
      "    for item_ in partition.items():\n",
      "    \n",
      "        if item_[1] not in communities:\n",
      "            communities[item_[1]] = [item_[0]] \n",
      "        else:\n",
      "            communities[item_[1]].append(item_[0])\n",
      "    \n",
      "    \n",
      "    return communities"
     ],
     "language": "python",
     "metadata": {},
     "outputs": [],
     "prompt_number": 46
    },
    {
     "cell_type": "code",
     "collapsed": false,
     "input": [
      "#returns the largest component\n",
      "def get_largest_component(component_graphs):\n",
      "    for graph_ in component_graphs:        \n",
      "        list_of_graph_sizes.append(len(graph_))\n",
      "    component_index = np.argsort(list_of_graph_sizes)[-1]\n",
      "    largest_component= component_graphs[component_index]\n",
      "    return largest_component\n"
     ],
     "language": "python",
     "metadata": {},
     "outputs": [],
     "prompt_number": 47
    },
    {
     "cell_type": "markdown",
     "metadata": {},
     "source": [
      "**Measuring the Quality of the Partition**\n",
      "\n",
      "In this section we would like to run some tests to see how well the partitioning algorithm partitioned the large graph.\n",
      "\n",
      "In this block we run several metrics to interpret the quality of the communities. The average shortest path length of the communities tells the average distance between every possible node pairing in a connected graph. One can imagine that a good partition would be one where the average shortest distance would be low. If the average distance is high, there are, on average more nodes to traverse in order to get to the other node. This can be translated to topics- if the closer the nodes are together, the more similar the URLs are, and thus, the more consistent the topic they represent is.\n",
      "\n",
      "Furthermore, degree centrality tells us how central a node is in the graph. Thus better partitioned graphs will have higher average degree centralities.\n",
      "\n",
      "Nevertheless, both these metrics imply that the best partition would be simply a two-node partition. This, however, is categorically false. The best partitions will be ones that are high in the distribution of community node counts and have low average shortest distances and high degree centralities.\n",
      "\n",
      "We ran this metric on the train-10000 set, however the computational requirements are too high to be repeated here.\n",
      "\n",
      "We thus, recreate this step using the train-1000 set. (This step will take 3-5 minutes).\n",
      "\n"
     ]
    },
    {
     "cell_type": "code",
     "collapsed": false,
     "input": [
      "train_file = 'train-1000'\n",
      "urls_matrix_train = build_matrix(train_file)\n",
      "graph_urls = convert_graph(urls_matrix_train)\n",
      "graph_components = create_components(graph_urls)\n",
      "largest_component = get_largest_component(graph_components)\n",
      "communities_1000 = partition_graph(largest_component)"
     ],
     "language": "python",
     "metadata": {},
     "outputs": [],
     "prompt_number": 48
    },
    {
     "cell_type": "code",
     "collapsed": false,
     "input": [
      "#because the partitioning algorithm return only the urls and their community\n",
      "#we need to recreate the graphs \n",
      "        \n",
      "def recreate_graphs(partition, largest_component):\n",
      "    \n",
      "    community_graphs = {}\n",
      "    \n",
      "    #community labels are from 0,...,N\n",
      "    num_communities = len(partition)\n",
      "    \n",
      "    for i in range(num_communities):\n",
      "            \n",
      "            largest_component_copy = largest_component.copy()\n",
      "            \n",
      "            for node_comp in  largest_component_copy.nodes():\n",
      "                largest_component_copy.node[node_comp]['match'] = False\n",
      "    \n",
      "            for comm_node in partition[i]:\n",
      "                largest_component_copy.node[comm_node]['match'] = True\n",
      "    \n",
      "            for node_r in largest_component_copy.nodes():\n",
      "                if largest_component_copy.node[node_r]['match'] == False:\n",
      "                    largest_component_copy.remove_node(node_r)\n",
      "    \n",
      "            community_graphs[i] = largest_component_copy\n",
      "    return community_graphs"
     ],
     "language": "python",
     "metadata": {},
     "outputs": [],
     "prompt_number": 49
    },
    {
     "cell_type": "code",
     "collapsed": false,
     "input": [
      "community_graphs = recreate_graphs(communities_1000, largest_component)\n"
     ],
     "language": "python",
     "metadata": {},
     "outputs": [],
     "prompt_number": 50
    },
    {
     "cell_type": "code",
     "collapsed": false,
     "input": [
      "#get graph properties\n",
      "#community_graphs = recreate_graphs(communities_1000, largest_component)\n",
      "\n",
      "comm_properties = {}\n",
      "\n",
      "for comm_id in community_graphs.keys():\n",
      "    comm_properties_interim = {}\n",
      "    comm_properties_interim['comm_len'] = len(community_graphs[comm_id])\n",
      "    comm_properties_interim['comm_shortest'] = nx.average_shortest_path_length(community_graphs[comm_id])\n",
      "    degree_centrality_ = nx.degree_centrality(community_graphs[comm_id]) \n",
      "    average_ = np.average(degree_centrality_.values())\n",
      "    comm_properties_interim['avg_centrality'] = average_\n",
      "    comm_properties[comm_id] = comm_properties_interim\n"
     ],
     "language": "python",
     "metadata": {},
     "outputs": [],
     "prompt_number": 51
    },
    {
     "cell_type": "code",
     "collapsed": false,
     "input": [
      "avg_centralities = []\n",
      "for comm_ in comm_properties:\n",
      "     avg_centralities.append(comm_properties[comm_]['avg_centrality'])\n",
      "\n",
      "n, bins, patches = plt.hist(avg_centralities, bins=50, range=(0,10))\n",
      "plt.xlabel('Average Degree Centrality')\n",
      "plt.ylabel('Count')"
     ],
     "language": "python",
     "metadata": {},
     "outputs": [
      {
       "metadata": {},
       "output_type": "pyout",
       "prompt_number": 54,
       "text": [
        "<matplotlib.text.Text at 0x1256cca50>"
       ]
      },
      {
       "metadata": {},
       "output_type": "display_data",
       "png": "[encoded data removed]",
       "text": [
        "<matplotlib.figure.Figure at 0x106112050>"
       ]
      }
     ],
     "prompt_number": 54
    },
    {
     "cell_type": "code",
     "collapsed": false,
     "input": [
      "shortest_dist = []\n",
      "for comm_ in comm_properties:\n",
      "     avg_centralities.append(comm_properties[comm_]['comm_shortest'])\n",
      "\n",
      "n, bins, patches = plt.hist(avg_centralities, bins=50, range=(0,10))\n",
      "plt.xlabel('Average Shortest Pathway')\n",
      "plt.ylabel('Count')"
     ],
     "language": "python",
     "metadata": {},
     "outputs": [
      {
       "metadata": {},
       "output_type": "pyout",
       "prompt_number": 55,
       "text": [
        "<matplotlib.text.Text at 0x1078cc250>"
       ]
      },
      {
       "metadata": {},
       "output_type": "display_data",
       "png": "[encoded data removed]",
       "text": [
        "<matplotlib.figure.Figure at 0x1256fd790>"
       ]
      }
     ],
     "prompt_number": 55
    },
    {
     "cell_type": "code",
     "collapsed": false,
     "input": [
      "avg_length = []\n",
      "for comm_ in comm_properties:\n",
      "     avg_length.append(comm_properties[comm_]['comm_len'])\n",
      "\n",
      "n, bins, patches = plt.hist(avg_length, bins=50, range=(0,300))\n",
      "plt.xlabel('Community Size (nodes)')\n",
      "plt.ylabel('Count')\n"
     ],
     "language": "python",
     "metadata": {},
     "outputs": [
      {
       "metadata": {},
       "output_type": "pyout",
       "prompt_number": 66,
       "text": [
        "<matplotlib.text.Text at 0x12fe6cb50>"
       ]
      },
      {
       "metadata": {},
       "output_type": "display_data",
       "png": "[encoded data removed]",
       "text": [
        "<matplotlib.figure.Figure at 0x12fd59150>"
       ]
      }
     ],
     "prompt_number": 66
    },
    {
     "cell_type": "markdown",
     "metadata": {},
     "source": [
      "The last graph seems to suggest that there is no regular distribution in the community sizes. "
     ]
    },
    {
     "cell_type": "markdown",
     "metadata": {},
     "source": [
      "We now want to reconstruct the original graph of URLs with the largest component broken down into the communities that were retrieved previously."
     ]
    },
    {
     "cell_type": "code",
     "collapsed": false,
     "input": [
      "#partition needs to be pre-processed by recreate_graphs\n",
      "def topic_space(graph_urls, community_graphs):    \n",
      "    \n",
      "    list_of_urls = []\n",
      "    \n",
      "    comps = create_components(graph_urls)\n",
      "    for comp_ in comps:\n",
      "        for url_ in comp_:\n",
      "            list_of_urls.append(url_)      \n",
      "\n",
      "    dict_of_urls = {}\n",
      "    \n",
      "    for i, comp_ in enumerate(comps):\n",
      "        for url_ in comp_:\n",
      "            dict_of_urls[url_] = i      # get the component number to identify the largest component\n",
      "        \n",
      "\n",
      "    #remove all of the URLs in the 0th components\n",
      "    for key, item in dict_of_urls.items():\n",
      "        if item == 0:\n",
      "            del dict_of_urls[key]\n",
      "        \n",
      "    # add back all of the URLs with their topics being their respective community\n",
      "    for comm_no in community_graphs:\n",
      "        for url_ in community_graphs[comm_no].nodes():\n",
      "            dict_of_urls[url_] = comm_no + 50000       #not to confuse with any existing topics\n",
      "    \n",
      "    return dict_of_urls"
     ],
     "language": "python",
     "metadata": {},
     "outputs": []
    },
    {
     "cell_type": "markdown",
     "metadata": {},
     "source": [
      "Now that we are able to get the space of topics represented by the URLs that map to them, we can begin calculating user affinities to particular topics from their clicks."
     ]
    },
    {
     "cell_type": "code",
     "collapsed": false,
     "input": [
      "#calculate user's affinity to a given topic\n",
      "#build users' dict and topic affinities\n",
      "\n",
      "def get_user_affinities(train_file, topic_space):\n",
      "    f = open(train_file)\n",
      "    filereader_train = FileReader(f) \n",
      "    user_affinities = {}\n",
      "    clicked_urls = defaultdict(list)\n",
      "    session_to_user = {}\n",
      "    \n",
      "    while True:\n",
      "        elems = filereader_train.get_next_line().split()\n",
      "        if not elems:\n",
      "            break\n",
      "        if elems[1] == 'M':\n",
      "            session_to_user[elems[0]] = elems[3]\n",
      "        elif elems[2] == 'C':\n",
      "            user_id = session_to_user[elems[0]]\n",
      "            clicked_urls[user_id].append(int(elems[4]))\n",
      "                            \n",
      "    for user_ in clicked_urls:\n",
      "        \n",
      "        topic_affinity = {}\n",
      "        \n",
      "        list_urls_ = clicked_urls[user_]\n",
      "        \n",
      "        \n",
      "        total_clicks_ = len(list_urls_)\n",
      "    \n",
      "        if total_clicks_ > 0:\n",
      "            for clicked_url_ in list_urls_:  \n",
      "                if clicked_url_ not in topic_affinity.keys():\n",
      "                    if clicked_url_  in  topic_space:\n",
      "                        points_ = (1./total_clicks_)\n",
      "                        topic_affinity[topic_space[clicked_url_]] = points_\n",
      "                else:\n",
      "                    if clicked_url_  in  topic_space:\n",
      "                        points_ = (1./total_clicks_)\n",
      "                        topic_affinity[topic_space[clicked_url_]] += points\n",
      "            user_affinities[user_] = topic_affinity\n",
      "    return user_affinities         \n",
      "        \n",
      "        "
     ],
     "language": "python",
     "metadata": {},
     "outputs": []
    },
    {
     "cell_type": "markdown",
     "metadata": {},
     "source": [
      "As a sanity check, let's see if our method for creating the space of topics is useful. Miscategorized queries are defined as queries where there are two or more topics present. Thus, for this model to be viable, assuming the space of topics and their corresponding URLs is properly defined, we would need to identify that there are in fact some queries that are miscategorized by this definition."
     ]
    },
    {
     "cell_type": "code",
     "collapsed": false,
     "input": [
      "topic_space = topic_space(graph_urls, community_graphs)\n"
     ],
     "language": "python",
     "metadata": {},
     "outputs": []
    },
    {
     "cell_type": "code",
     "collapsed": false,
     "input": [
      "\n",
      "#let's see how many queries are miscategorized in the validate dataset\n",
      "\n",
      "validate = open('validate-1000')\n",
      "filereader_validate = FileReader(validate)\n",
      "\n",
      "topics_in_queries = {}\n",
      "\n",
      "#process the input file\n",
      "while True:\n",
      "    line = filereader_validate.get_next_line().split()\n",
      "    \n",
      "    #print elems\n",
      "    if not line:\n",
      "        break\n",
      "    if line[2] == \"Q\":\n",
      "        query = parse_query(line)\n",
      "        list_of_urls_and_domains = query['list_of_urls_and_domains']        \n",
      "        list_of_topics = []\n",
      "        for url_domain in list_of_urls_and_domains:\n",
      "            url_domain_split = url_domain.split(',')\n",
      "            url = url_domain_split[0]\n",
      "            \n",
      "            if url in topic_space:   \n",
      "                topic = topic_space[url]\n",
      "                list_of_topics.append(topic)\n",
      "            \n",
      "            if list_of_topics == []:  # a query with 0 matched URLs will automatically have topics represented = 1\n",
      "                list_of_topics = ['0']\n",
      "        topics_in_queries[query['query_id']] = list_of_topics\n",
      "    \n",
      "    \n",
      "#calculate ratio of miscategorized queries    \n",
      "n_accurate_queries = 0\n",
      "n_miscat_queries = 0\n",
      "for query_ in topics_in_queries.keys():\n",
      "    n_unique_obs = len(np.unique(topics_in_queries[query_]))\n",
      "    if n_unique_obs == 1:\n",
      "        n_accurate_queries +=1\n",
      "    else:\n",
      "        n_miscat_queries += 1\n",
      "\n",
      "total_queries = len(topics_in_queries)\n",
      "percent_miscat = (n_miscat_queries/float(total_queries))*100\n",
      "\n",
      "print \"According to our definition of proper categorization, there are %d properly categorized queries.\" % n_accurate_queries\n",
      "print \"There are %d miscategorized queries.\" % n_miscat_queries\n",
      "print \"The percentage of miscategorized queries is %f.\" % percent_miscat"
     ],
     "language": "python",
     "metadata": {},
     "outputs": []
    },
    {
     "cell_type": "markdown",
     "metadata": {},
     "source": [
      "Thus, the model trained on the train-1000 set has identified that nearly 15.5% of the queries are miscategorized. This is a comfortable percentage to work with. "
     ]
    },
    {
     "cell_type": "code",
     "collapsed": false,
     "input": [
      "def rerank_topic_model(eval_file, write_test, topic_space, user_aff):\n",
      "    f = open(eval_file)\n",
      "    filereader_validate = FileReader(f)    \n",
      "    list_topics_by_queries = {}\n",
      "    reranked_list = []\n",
      "    \n",
      "    wf = open(write_test, 'w')\n",
      "    wf.write('SessionID,URLID\\n')\n",
      "    \n",
      "    while True:\n",
      "        line = filereader_validate.get_next_line().split()\n",
      "        if not line:\n",
      "            break\n",
      "        if line[1] == \"M\":\n",
      "            metadata = parse_metadata(line)\n",
      "            user_id = metadata['user_id']\n",
      "            session_id = metadata['session_id']\n",
      "           \n",
      "            if user_id not in user_aff:\n",
      "                # reranking is impossible because we can't map this user\n",
      "                anyreranking = False         \n",
      "            else:\n",
      "                user_aff = user_aff[user_id]\n",
      "                \n",
      "        if line[2] == \"T\":\n",
      "            query = parse_query(line)\n",
      "            list_of_urls_and_domains = query['list_of_urls_and_domains']\n",
      "            list_of_urls_topics = []\n",
      "            list_of_urls = []\n",
      "            for url_domain in list_of_urls_and_domains:\n",
      "                url_domain_split = url_domain.split(',')\n",
      "                url = url_domain_split[0]\n",
      "                list_of_urls.append(url)    \n",
      "                if url in topic_space:   \n",
      "                    topic = topic_space[url]\n",
      "                    list_of_urls_topics.append((url,topic))\n",
      "                else:\n",
      "                    list_of_urls_topics.append((url, '-1'))\n",
      "            \n",
      "            #the matched topics for the user\n",
      "            matched_topics = []\n",
      "            url_list_interim = []\n",
      "            \n",
      "            list_of_topic_ids = [tuple_[1] for tuple_ in list_of_urls_topics]\n",
      "            n_unique_obs = len(np.unique(list_of_topic_ids))\n",
      "            \n",
      "            \n",
      "            \n",
      "            #we have a miscategorized query\n",
      "            if n_unique_obs != 1: \n",
      "                list_of_topic_ids = list(set(list_of_topic_ids))\n",
      "               \n",
      "                #to check if it is -1 and another topic. \n",
      "                #We're not interested in reranking queries where we have one topic present\n",
      "                #and we cannot identify the other URLs' topics\n",
      "                if n_unique_obs == 2:\n",
      "                    for item in list_of_topic_ids:\n",
      "                        if item == -1:\n",
      "                            anyreranking = False\n",
      "                        \n",
      "                for topic in list_of_topic_ids:\n",
      "                    for user_topic in user_aff.keys():\n",
      "                            if topic == user_topic:\n",
      "                                matched_topics.append(topic)\n",
      "                affinity = 0\n",
      "                                \n",
      "                if matched_topics:\n",
      "                    #take highest affinity topic\n",
      "                    for topic in matched_topics: \n",
      "                        cur_affinity = user_aff[topic]\n",
      "                        if cur_affinity > affinity:\n",
      "                            affinity = cur_affinity\n",
      "                    for topic_, affinity_ in user_aff.items():\n",
      "                        if affinity == affinity_:\n",
      "                            best_topic = topic_\n",
      "                            break\n",
      "\n",
      "                    #rerank only the URLs that share the users most affinitive topics\n",
      "                    for url_, topic_ in list_of_urls_topics:\n",
      "                        if topic_ == best_topic:\n",
      "                            wf.write(str(session_id) + ',' + str(url_) + '\\n')\n",
      "\n",
      "                            \n",
      "                    #add back the non-reranked urls        \n",
      "                    for url_, topic_ in list_of_urls_topics:\n",
      "                        if (session_id, url_, topic_) not in reranked_list_interim:\n",
      "                            wf.write(str(session_id) + ',' + str(url_) + '\\n')\n",
      " \n",
      "\n",
      "                    anyreranking = True\n",
      "                    \n",
      "                   \n",
      "            \n",
      "            #no reranking, just keep original order\n",
      "            if anyreranking == False:\n",
      "                for url_, topic_ in list_of_urls_topics: \n",
      "                    #url_list_interim.append(url_)\n",
      "                    \n",
      "                    wf.write(str(session_id) + ',' + str(url_) + '\\n')\n",
      "               # write_ranking(write_test, session_id, url_list_interim)\n",
      "                \n",
      "            # set back to false for future iteration\n",
      "            anyreranking = False\n",
      "    f.close()\n",
      "    wf.close()"
     ],
     "language": "python",
     "metadata": {},
     "outputs": []
    },
    {
     "cell_type": "markdown",
     "metadata": {},
     "source": [
      "Let's put this all together and rerank the test set using the procedure we've put together."
     ]
    },
    {
     "cell_type": "code",
     "collapsed": false,
     "input": [
      "\n",
      "train_file = 'train-1000'\n",
      "test_file = 'test-1000'\n",
      "write_file = 'topic-output'\n",
      "\n",
      "user_affinities = get_user_affinities(train_file, topic_space)\n",
      "\n",
      "rerank_topic_model(test_file, write_file, topic_space, user_affinities)"
     ],
     "language": "python",
     "metadata": {},
     "outputs": []
    },
    {
     "cell_type": "code",
     "collapsed": false,
     "input": [
      "train_file = 'train-1000'\n",
      "validate_file = 'test-1000'\n",
      "rel_map = get_rel_map(validate_file)\n",
      "\n",
      "final_DCG = compute_overall_score(write_file, rel_map)  \n",
      "print final_DCG"
     ],
     "language": "python",
     "metadata": {},
     "outputs": []
    },
    {
     "cell_type": "markdown",
     "metadata": {},
     "source": [
      "The ranking compares to our similarity score as well as the latent factor model score. It is very likely that  because of partially miscategorized topics or qualities in the URLs, such as language difficulty, levels of graphic media, etc. "
     ]
    }
   ],
   "metadata": {}
  }
 ]
}