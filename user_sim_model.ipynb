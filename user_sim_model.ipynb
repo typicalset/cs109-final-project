{
 "metadata": {
  "name": ""
 },
 "nbformat": 3,
 "nbformat_minor": 0,
 "worksheets": [
  {
   "cells": [
    {
     "cell_type": "heading",
     "level": 1,
     "metadata": {},
     "source": [
      "User Similarity Model"
     ]
    },
    {
     "cell_type": "markdown",
     "metadata": {},
     "source": [
      "<img src=\"http://www.calvaryaustin.com/wp-content/uploads/2013/11/unity.jpg\" width=\"400\" height=\"300\"/>"
     ]
    },
    {
     "cell_type": "markdown",
     "metadata": {},
     "source": [
      "The User Similarity Model is another approach to the task of web search personalization. This model uses the search histories of a user and users similar to him/her to make predictions about the most relevant links of future searches. The underlying hypothesis of this method is that similar users will search similarly. To define user similarity, we take into account two factors: similarity of historical queries and the number of identical urls clicked on in the past."
     ]
    },
    {
     "cell_type": "code",
     "collapsed": false,
     "input": [
      "''' Do all necessary imports '''\n",
      "import matplotlib.pyplot as plt\n",
      "import networkx as nx\n",
      "import numpy as np\n",
      "import intersect as t\n",
      "import itertools as it\n",
      "import string\n",
      "import operator\n",
      "from collections import Counter\n",
      "\n",
      "from utils import *\n",
      "from eval import *"
     ],
     "language": "python",
     "metadata": {},
     "outputs": [],
     "prompt_number": 1
    },
    {
     "cell_type": "code",
     "collapsed": false,
     "input": [
      "''' Used this set of functions instead of the ones defined in utils.py '''\n",
      "class FileReader:\n",
      "    def __init__(self, f):\n",
      "        self.f = f\n",
      "        self.next_line = self.f.readline()\n",
      "    def peek_line(self):\n",
      "        return self.next_line\n",
      "    def get_next_line(self):\n",
      "        temp = self.next_line\n",
      "        self.next_line = self.f.readline()\n",
      "        return temp\n",
      "    \n",
      "def parse_metadata(elems):\n",
      "    metadata = {}\n",
      "    metadata['session_id'] = elems[0]\n",
      "    metadata['type_of_record'] = elems[1]\n",
      "    metadata['Day'] = elems[2]\n",
      "    metadata['user_id'] = elems[3]\n",
      "    return metadata\n",
      "\n",
      "def parse_query(elems):\n",
      "    query = {}\n",
      "    query['session_id'] = elems[0]\n",
      "    query['time_passed'] = elems[1]\n",
      "    query['type_of_record'] = elems[2]\n",
      "    query['serp_id'] = elems[3]\n",
      "    query['query_id'] = elems[4]\n",
      "    query['list_of_terms'] = elems[5].split(',')\n",
      "    query['list_of_urls_and_domains'] = elems[6:]\n",
      "    return query\n",
      "\n",
      "def parse_click(elems):\n",
      "    click = {}\n",
      "    click['session_id'] = elems[0]\n",
      "    click['time_passed'] = elems[1]\n",
      "    click['type_of_record'] = elems[2]\n",
      "    click['serp_id'] = elems[3]\n",
      "    click['url_id'] = elems[4]\n",
      "    return click\n",
      "\n",
      "def remove_border(axes=None, top=False, right=False, left=True, bottom=True):\n",
      "    \"\"\"\n",
      "    Minimize chartjunk by stripping out unnecessary plot borders and axis ticks\n",
      "    \n",
      "    The top/right/left/bottom keywords toggle whether the corresponding plot border is drawn\n",
      "    \"\"\"\n",
      "    ax = axes or plt.gca()\n",
      "    ax.spines['top'].set_visible(top)\n",
      "    ax.spines['right'].set_visible(right)\n",
      "    ax.spines['left'].set_visible(left)\n",
      "    ax.spines['bottom'].set_visible(bottom)\n",
      "    \n",
      "    #turn off all ticks\n",
      "    ax.yaxis.set_ticks_position('none')\n",
      "    ax.xaxis.set_ticks_position('none')\n",
      "    \n",
      "    #now re-enable visibles\n",
      "    if top:\n",
      "        ax.xaxis.tick_top()\n",
      "    if bottom:\n",
      "        ax.xaxis.tick_bottom()\n",
      "    if left:\n",
      "        ax.yaxis.tick_left()\n",
      "    if right:\n",
      "        ax.yaxis.tick_right()"
     ],
     "language": "python",
     "metadata": {},
     "outputs": [],
     "prompt_number": 2
    },
    {
     "cell_type": "markdown",
     "metadata": {},
     "source": [
      "We begin by extracting the necessary data from 'train-1000', a training data subset consisting of 1000 lines of metadata, query data, and click data."
     ]
    },
    {
     "cell_type": "code",
     "collapsed": false,
     "input": [
      "'''\n",
      "Returns 2-tuple of (user_info, all_terms)\n",
      "---\n",
      "user_info : dict of users' queries, with each query represented by its 'terms' and 'urls'\n",
      "            indexed by user_id\n",
      "\n",
      "all_terms : Counter object that counts occurrences of words across all queries\n",
      "'''\n",
      "def extract_data(fname,n):\n",
      "    f = open(fname)\n",
      "    filereader = FileReader(f)\n",
      "\n",
      "    user_info = {}\n",
      "    all_terms = []\n",
      "    \n",
      "    for _ in range(0,n):\n",
      "        elems = filereader.get_next_line().split()\n",
      "        metadata = parse_metadata(elems)\n",
      "        user_id = metadata['user_id']\n",
      "        if not user_id in user_info:\n",
      "            user_info[user_id] = []\n",
      "        \n",
      "        terms = []\n",
      "        urls = []\n",
      "        \n",
      "        while True:\n",
      "            elems = filereader.peek_line().split()\n",
      "            # encountered new query\n",
      "            if elems[1] == 'M':\n",
      "                # append query info to appropriate user in user_info\n",
      "                user_info[user_id].append({'terms':terms,'urls':urls})\n",
      "                break\n",
      "            else:\n",
      "                elems = filereader.get_next_line().split()\n",
      "                if elems[2] == 'Q':\n",
      "                    query = parse_query(elems)\n",
      "                    # gets list_of_terms for a particular query\n",
      "                    terms = string.join(query['list_of_terms'])\n",
      "                    all_terms += terms.split(' ')\n",
      "                \n",
      "                if elems[2] == 'C':\n",
      "                    # gets url_id for url clicked\n",
      "                    urls.append(parse_click(elems)['url_id'])\n",
      "        \n",
      "    return user_info, Counter(all_terms)\n",
      "        "
     ],
     "language": "python",
     "metadata": {},
     "outputs": [],
     "prompt_number": 3
    },
    {
     "cell_type": "code",
     "collapsed": false,
     "input": [
      "user_info, all_terms = extract_data('train-1000',1000)"
     ],
     "language": "python",
     "metadata": {},
     "outputs": [],
     "prompt_number": 4
    },
    {
     "cell_type": "code",
     "collapsed": false,
     "input": [
      "term_freq = all_terms.values()\n",
      "plt.hist(term_freq,bins=20,log=True)\n",
      "plt.title('Frequency of Term Counts (log scale)')\n",
      "plt.xlabel('Count of Term')\n",
      "plt.ylabel('Frequency of Counts')"
     ],
     "language": "python",
     "metadata": {},
     "outputs": [
      {
       "metadata": {},
       "output_type": "pyout",
       "prompt_number": 5,
       "text": [
        "<matplotlib.text.Text at 0x10713ce50>"
       ]
      },
      {
       "metadata": {},
       "output_type": "display_data",
       "png": "[encoded data removed]",
       "text": [
        "<matplotlib.figure.Figure at 0x107120dd0>"
       ]
      }
     ],
     "prompt_number": 5
    },
    {
     "cell_type": "raw",
     "metadata": {},
     "source": [
      "As shown in the graph above, there are many terms that appear a small number of times in queries, and only a few terms that appear a large number of times in queries."
     ]
    },
    {
     "cell_type": "markdown",
     "metadata": {},
     "source": [
      "** Query Sub-score: Similarity of historical queries **\n",
      "\n",
      "Each user has a set of historical queries. The model represents the 'ListOfTerms' of each historical query as a bag-of-words, which was introduced in HW3. In other words, each query is represented by a vector that enumerates the specific words used in the query, with each vector dimension representing a unique word. We assume that the 'ListOfTerms' of each query has been stripped of insignificant words such as 'the' or 'a'. For instance, a search for \"restaurants in Cambridge\" will not include the word 'in'. \n",
      "\n",
      "The historical queries of each user are compared with the historical queries of every other user. The similarity between two queries is determined by the cosine similarity between their two vectors. In other words, the cosine of the angle between the two vectors in vectorspace is used as the similarity measure between the two queries. The query sub-score between two users is the average of all the individual similarity scores between each possible pair of some User A's historical queries and some User B's historical queries.\n",
      "\n",
      "Example:\n",
      "Say User A has queries k,n,m and User B has queries p,q,r. Then, comparisons would be made between queries k & p, queries k & q, queries k & r, queries n & p, and so on. A cosine similarity score would be calculated for each comparison. The 'query sub-score' between User A and User B is just the average of all the individual cosine similarity scores derived from the query comparisons.\n",
      "\n",
      "** URL Sub-score: Number of identical URLs clicked **\n",
      "\n",
      "Among the historical queries of two users, the number of identical URLs that were clicked on by both users is also used as an indicator of similarity between the users. This indicator is called the 'URL subscore'. "
     ]
    },
    {
     "cell_type": "code",
     "collapsed": false,
     "input": [
      "'''\n",
      "Returns a 3-tuple: (similarites, list_query_sim, list_sim_url)\n",
      "---\n",
      "similarities : NetworkX Graph of users connected by edges that contain\n",
      "               the similarity score between users\n",
      "               nodes referenced by user_id\n",
      "list_query_sim : list of query similarity scores across all pairs of users\n",
      "list_sim_url : list of # identical URLs between all pairs of users, for all pairs of users\n",
      "'''\n",
      "def sim_network(user_info):        \n",
      "    similarities = nx.Graph()\n",
      "    list_query_sim = []\n",
      "    list_sim_url = []\n",
      "    \n",
      "    # for each pair of users, calculate the average query similarity\n",
      "    # between them as well as the number of common urls they both click on\n",
      "    for u1, u2 in it.combinations(user_info.keys(), 2):\n",
      "        sim_n = 0\n",
      "        sim_d = 0\n",
      "        sim_url = 0\n",
      "        \n",
      "        for i in xrange(len(user_info[u1])):\n",
      "            for j in xrange(len(user_info[u2])):\n",
      "                # calculate cosine similiarity score between two queries\n",
      "                query_sim = t.get_cosine(t.text_to_vector(user_info[u1][i]['terms']),\n",
      "                            t.text_to_vector(user_info[u2][j]['terms']))\n",
      "                # if queries are somewhat similar, record score\n",
      "                if query_sim > 0:\n",
      "                    sim_n += query_sim\n",
      "                    sim_d += 1\n",
      "                # record number of mutual URLs clicked\n",
      "                sim_url += len(set(user_info[u1][i]['urls']) & set(user_info[u2][j]['urls']))\n",
      "        \n",
      "        # if no similar queries, set query_sim to 0\n",
      "        if sim_d == 0:\n",
      "            query_sim = 0\n",
      "        # else average all query similarity scores\n",
      "        else:\n",
      "            query_sim = sim_n / sim_d\n",
      "        \n",
      "        # add similarity score component to network edge for users u1 & u2\n",
      "        similarities.add_edge(u1,u2,query=query_sim,url=sim_url)\n",
      "        list_query_sim.append(query_sim)\n",
      "        list_sim_url.append(sim_url)\n",
      "        \n",
      "    return similarities, list_query_sim, list_sim_url"
     ],
     "language": "python",
     "metadata": {},
     "outputs": [],
     "prompt_number": 6
    },
    {
     "cell_type": "code",
     "collapsed": false,
     "input": [
      "similarities, list_query_sim, list_sim_url = sim_network(user_info)"
     ],
     "language": "python",
     "metadata": {},
     "outputs": [],
     "prompt_number": 7
    },
    {
     "cell_type": "code",
     "collapsed": false,
     "input": [
      "'''\n",
      "Plot distribution of Query sub-scores\n",
      "'''\n",
      "plt.hist(list_query_sim,bins=20)\n",
      "plt.title('Distribution of Query sub-scores')\n",
      "plt.xlabel('Query sub-scores')\n",
      "plt.figure()\n",
      "plt.hist(list_query_sim,bins=20,log=True)\n",
      "plt.title('Distribution of Query sub-scores (log scale)')\n",
      "plt.xlabel('Query sub-scores')\n",
      "plt.figure()\n",
      "\n",
      "# Remove scores of 0, plot distribution again\n",
      "plt.hist(filter(lambda x:x>0,list_query_sim),bins=20)\n",
      "plt.title('Distribution of Query sub-scores greater than zero')\n",
      "plt.xlabel('Query sub-scores')\n",
      "plt.show()"
     ],
     "language": "python",
     "metadata": {},
     "outputs": [
      {
       "metadata": {},
       "output_type": "display_data",
       "png": "[encoded data removed]",
       "text": [
        "<matplotlib.figure.Figure at 0x10718c0d0>"
       ]
      },
      {
       "metadata": {},
       "output_type": "display_data",
       "png": "[encoded data removed]",
       "text": [
        "<matplotlib.figure.Figure at 0x1075113d0>"
       ]
      },
      {
       "metadata": {},
       "output_type": "display_data",
       "png": "[encoded data removed]",
       "text": [
        "<matplotlib.figure.Figure at 0x10718c510>"
       ]
      }
     ],
     "prompt_number": 8
    },
    {
     "cell_type": "raw",
     "metadata": {},
     "source": [
      "There are many query similarity scores of zero. When this distribution is plotted without scores of zero, a distribution is obtained with a long right tail and center on 0.2. Thus, most queries are dissimilar from one another, but a few are fairly similar."
     ]
    },
    {
     "cell_type": "code",
     "collapsed": false,
     "input": [
      "'''\n",
      "Plot distribution of URL sub-scores\n",
      "'''\n",
      "plt.hist(list_sim_url,bins=20)\n",
      "plt.title('Distribution of URL sub-scores')\n",
      "plt.xlabel('URL sub-score')\n",
      "plt.figure()\n",
      "plt.hist(list_sim_url,bins=20,log=True)\n",
      "plt.title('Distribution of URL sub-scores (log scale)')\n",
      "plt.xlabel('URL sub-score')\n",
      "plt.figure()\n",
      "\n",
      "# Remove scores of 0, plot distribution again\n",
      "plt.hist(filter(lambda x:x>0,list_sim_url),bins=20)\n",
      "plt.title('URL sub-scores greater than zero')\n",
      "plt.xlabel('URL sub-score')\n",
      "plt.show()"
     ],
     "language": "python",
     "metadata": {},
     "outputs": [
      {
       "metadata": {},
       "output_type": "display_data",
       "png": "[encoded data removed]",
       "text": [
        "<matplotlib.figure.Figure at 0x107c24190>"
       ]
      },
      {
       "metadata": {},
       "output_type": "display_data",
       "png": "[encoded data removed]",
       "text": [
        "<matplotlib.figure.Figure at 0x107ccd610>"
       ]
      },
      {
       "metadata": {},
       "output_type": "display_data",
       "png": "[encoded data removed]",
       "text": [
        "<matplotlib.figure.Figure at 0x107c24050>"
       ]
      }
     ],
     "prompt_number": 9
    },
    {
     "cell_type": "raw",
     "metadata": {},
     "source": [
      "Similarly, there are many URL sub-scores of zero. \n",
      "When scores of zeros are removed, the distribution shows many low URL sub-scores."
     ]
    },
    {
     "cell_type": "markdown",
     "metadata": {},
     "source": [
      "Once these two sub-scores are determined, the sub-scores are normalized using their sample standard deviations. The sample sizes are very large (in this case 1000), so the sample parameters are good approximations for the population parameters."
     ]
    },
    {
     "cell_type": "markdown",
     "metadata": {},
     "source": [
      "The two sub-scores are also scaled between 0 and 1. The query sub-scores are already all between 0 and 1 by nature of the cosine function, and the URL sub-scores are divided by the maximum of the URL sub-scores to obtain the desired 0 to 1 scale. The two sub-scores are also weighted by weights 'w_query' and 'w_url', which add up to 10. We chose 10 so that weights can be easily incremented and decremented to sum to 10; this choice will become evident later on. The weighted subscores are then summed to obtain the aggregate similarity score. Here, we give both sub-scores equal weights of 5."
     ]
    },
    {
     "cell_type": "code",
     "collapsed": false,
     "input": [
      "'''\n",
      "Returns similarities : NetworkX Graph of users with the 'score' edge-attribute equal to\n",
      "                    the aggregate similarity score between two users\n",
      "'''\n",
      "def calc_sim_score(similarities, list_query_sim, list_sim_url, w_query, w_url):\n",
      "\n",
      "    qs_std = np.std(list_query_sim)\n",
      "    su_std = np.std(list_sim_url)\n",
      "    su_max = max(list_sim_url)\n",
      "        \n",
      "    for u,v,d in similarities.edges(data=True):\n",
      "        # if-statement to reduce computation majority of scores are 0\n",
      "        if d['query'] == 0 and d['url'] == 0:\n",
      "            d['score'] = 0\n",
      "        else:\n",
      "            # calculate aggregate similarity score based on weights for\n",
      "            # 'query similarity' component and 'number of identical URLs' component\n",
      "            d['score'] = d['query']*w_query/(qs_std) + d['url']*w_url/(su_std*su_max)\n",
      "    \n",
      "    return similarities\n",
      "        "
     ],
     "language": "python",
     "metadata": {},
     "outputs": [],
     "prompt_number": 10
    },
    {
     "cell_type": "code",
     "collapsed": false,
     "input": [
      "similarities = calc_sim_score(similarities,list_query_sim,list_sim_url,5,5)"
     ],
     "language": "python",
     "metadata": {},
     "outputs": [],
     "prompt_number": 11
    },
    {
     "cell_type": "code",
     "collapsed": false,
     "input": [
      "'''\n",
      "Gets a list of aggregate similarity scores to plot\n",
      "'''\n",
      "sim_scores = []\n",
      "\n",
      "for u,v,d in similarities.edges(data=True):\n",
      "    sim_scores.append(d['score'])"
     ],
     "language": "python",
     "metadata": {},
     "outputs": [],
     "prompt_number": 12
    },
    {
     "cell_type": "code",
     "collapsed": false,
     "input": [
      "plt.hist(sim_scores,bins=20,log=True)\n",
      "plt.title('Dist. of Similarity Scores (log scale)')\n",
      "plt.xlabel('Similarity Score')\n",
      "plt.figure()\n",
      "plt.hist(filter(lambda x:x>0,sim_scores),bins=20,log=True)\n",
      "plt.title('Dist. of Similarity Scores greater than zero (log scale)')\n",
      "plt.xlabel('Similarity Score')"
     ],
     "language": "python",
     "metadata": {},
     "outputs": [
      {
       "metadata": {},
       "output_type": "pyout",
       "prompt_number": 13,
       "text": [
        "<matplotlib.text.Text at 0x1071a9e90>"
       ]
      },
      {
       "metadata": {},
       "output_type": "display_data",
       "png": "[encoded data removed]",
       "text": [
        "<matplotlib.figure.Figure at 0x107cbdd10>"
       ]
      },
      {
       "metadata": {},
       "output_type": "display_data",
       "png": "[encoded data removed]",
       "text": [
        "<matplotlib.figure.Figure at 0x107cb7210>"
       ]
      }
     ],
     "prompt_number": 13
    },
    {
     "cell_type": "raw",
     "metadata": {},
     "source": [
      "From the above histograms, we can see that aggregate similarity scores are distributed more evenly than the individual sub-scores.  Even when similarity scores of zero are removed, the distribution retains its overall shape. There are a few outliers of high similarity scores."
     ]
    },
    {
     "cell_type": "code",
     "collapsed": false,
     "input": [
      "'''\n",
      "Code for Gephi network graph\n",
      "'''\n",
      "for u,v,d in similarities.edges(data=True):\n",
      "    if d['score'] == 0:\n",
      "        similarities.remove_edge(u,v)\n",
      "        continue\n",
      "    d['weight'] = int(d['score'] * 1000)\n",
      "    d['score'] = d['query'] = d['url'] = 0\n",
      "\n",
      "nx.write_gexf(similarities, 'similarities.gexf')"
     ],
     "language": "python",
     "metadata": {},
     "outputs": [],
     "prompt_number": 14
    },
    {
     "cell_type": "markdown",
     "metadata": {},
     "source": [
      "Once an aggregate similarity score is computed between each pair of users, the function 'most_similar' obtains the users that are 'most similar' to a specific user. We define a 'most similar' user by a shared similarity score greater than 0. We rank the 'most similar' user list by similarity score (highest to lowest). "
     ]
    },
    {
     "cell_type": "code",
     "collapsed": false,
     "input": [
      "'''\n",
      "Returns the users most similar to the user referenced by 'user_id'\n",
      "These consist of users that have an aggregate similarity score\n",
      "greater than 0 with the user referenced by 'user_id'\n",
      "'''\n",
      "def most_similar(user_id,similarities):\n",
      "    n_nearest = []\n",
      "    \n",
      "    if not similarities.has_node(user_id):\n",
      "        return n_nearest\n",
      "    \n",
      "    neighbors = similarities.neighbors(user_id)\n",
      "    \n",
      "    for neigh in neighbors:\n",
      "        if similarities[neigh][user_id]['score'] > 0:\n",
      "            n_nearest.append((neigh, similarities[neigh][user_id]['score']))\n",
      "    \n",
      "    \n",
      "    return map(lambda x:x[0],sorted(n_nearest, key=lambda x:x[1], reverse=True))"
     ],
     "language": "python",
     "metadata": {},
     "outputs": [],
     "prompt_number": 15
    },
    {
     "cell_type": "code",
     "collapsed": false,
     "input": [
      "'''\n",
      "Returns a dict of clicks made by users referenced by 'user_id'\n",
      "(i.e., keys are 'user_id's)\n",
      "'''\n",
      "def get_clicks(fname,n):\n",
      "    clicks = {}\n",
      "    f = open(fname)\n",
      "    filereader = FileReader(f)\n",
      "    \n",
      "    for _ in range(0,n):\n",
      "        elems = filereader.get_next_line().split()\n",
      "        metadata = parse_metadata(elems)\n",
      "        user_id = metadata['user_id']\n",
      "            \n",
      "        while True:      \n",
      "            elems = filereader.peek_line().split()\n",
      "            if elems[1] == 'M':\n",
      "                break\n",
      "            else:\n",
      "                elems = filereader.get_next_line().split()\n",
      "                if elems[2] == 'Q':\n",
      "                    if not user_id in clicks:\n",
      "                        clicks[user_id] = []\n",
      "                    query = parse_query(elems)\n",
      "                    \n",
      "                    \n",
      "                if elems[2] == 'C':\n",
      "                    click = parse_click(elems)\n",
      "                    next_line = filereader.peek_line().split()[1]\n",
      "                    if next_line == 'M':\n",
      "                        break\n",
      "                    dwell = int(next_line) - int(click['time_passed'])\n",
      "                    clicks[user_id].append((dwell,click['url_id']))\n",
      "    \n",
      "    return clicks"
     ],
     "language": "python",
     "metadata": {},
     "outputs": [],
     "prompt_number": 16
    },
    {
     "cell_type": "code",
     "collapsed": false,
     "input": [
      "'''\n",
      "Returns the URLs of the clicks made by a specified user\n",
      "Sorted by highest to lowest dwell time\n",
      "'''\n",
      "def extract_urls(clicks_by_user):\n",
      "    return map(lambda x:int(x[1]),sorted(clicks_by_user,key=lambda x:x[0],reverse=True))"
     ],
     "language": "python",
     "metadata": {},
     "outputs": [],
     "prompt_number": 17
    },
    {
     "cell_type": "markdown",
     "metadata": {},
     "source": [
      "Now, we are able to re-rank the URLs shown for a test query based on the user making the query (i.e., personalize web search for specific users). There are two processes by which we can rerank:"
     ]
    },
    {
     "cell_type": "markdown",
     "metadata": {},
     "source": [
      "** Process 1: **\n",
      "We obtain the historical list of clicks made by the user and sort this list based on dwell time (highest dwell time to lowest). We re-rank the query URLs based on this list of user clicks, with URLs that match historically clicked URLs with the highest dwell times being put at the top of the list."
     ]
    },
    {
     "cell_type": "markdown",
     "metadata": {},
     "source": [
      "** Process 2: **\n",
      "We take into account the historical clicks of similar users based on the assumption that similar users behave similarly. We obtain a historical list of clicks made by each similar user and re-rank the query URLs based on matching historical URLs of similar users with highest dwell times."
     ]
    },
    {
     "cell_type": "markdown",
     "metadata": {},
     "source": [
      "In each process, a few of the query URLs will 'float' to the top of the reranked list. We will rerank query URLs by two methods: Process 1 followed by Process 2 (Method 1), and Process 2 followed by Process 1 (Method 2). In each method, the URLs floated to the top by the first process will never be superceded by the URLs floated to the top by the second process. In this way, the first process is given a priority over the second in the reranking process. We test both methods to see which one produces the best results, and thus which process should be given priority."
     ]
    },
    {
     "cell_type": "code",
     "collapsed": false,
     "input": [
      "''' \n",
      "Method 1 of Reranking\n",
      "----------------------\n",
      "Rerank URLs of test queries based on two processes:\n",
      "1) click history of user who made test query\n",
      "2) click history of similar users\n",
      "in that order.\n",
      "\n",
      "Returns final DCG (Discounted Cumulative Gain) score of User Similarity Model\n",
      "'''\n",
      "def reranking_score(similarities,clicks,validate_file,test_queries,test_metadata):\n",
      "    ranking_file = validate_file + '-user-sim-ranking'\n",
      "    f = open(ranking_file, 'w')\n",
      "    f.write('SessionID,URLID\\n')\n",
      "    for test_query in test_queries:\n",
      "        session_id = test_query['session_id']\n",
      "        user_id = str(test_metadata[session_id])\n",
      "        user_clicks = []\n",
      "        if user_id in clicks:\n",
      "            user_clicks = extract_urls(clicks[user_id])\n",
      "        urls = list(zip(*test_query['list_of_urls_and_domains'])[0])\n",
      "        priority = []\n",
      "        if user_clicks:\n",
      "            for uc in user_clicks:\n",
      "                for url in urls:\n",
      "                    if url == uc:\n",
      "                        priority.append(url)\n",
      "                        urls.remove(url)\n",
      "                        break\n",
      "        # get most similar users\n",
      "        most_sim_users = most_similar(user_id,similarities)\n",
      "        # if similar users exist\n",
      "        if most_sim_users:\n",
      "            for su in most_sim_users:\n",
      "                # get clicks by similar user\n",
      "                su_clicks = extract_urls(clicks[str(su)])\n",
      "                # if clicks exist\n",
      "                if su_clicks:\n",
      "                    for sc in su_clicks:\n",
      "                        for url in urls:\n",
      "                            if url == sc:\n",
      "                                priority.append(url)\n",
      "                                urls.remove(url)\n",
      "                                break    \n",
      "        reranked_urls = priority + urls\n",
      "        for url in reranked_urls:\n",
      "            f.write(str(session_id) + ',' + str(url) + '\\n')\n",
      "                        \n",
      "    f.close()\n",
      "    \n",
      "    final_DCG = compute_overall_score(ranking_file, get_rel_map(validate_file)) \n",
      "    return final_DCG"
     ],
     "language": "python",
     "metadata": {},
     "outputs": [],
     "prompt_number": 18
    },
    {
     "cell_type": "code",
     "collapsed": false,
     "input": [
      "'''\n",
      "Method 2 of Reranking\n",
      "----------------------\n",
      "Rerank URLs of test queries based on two processes:\n",
      "1) click history of similar users\n",
      "2) click history of user who made test query\n",
      "in that order.\n",
      "\n",
      "Returns final DCG (Discounted Cumulative Gain) score of User Similarity Model\n",
      "'''\n",
      "def reranking_score_2(similarities,clicks,validate_file,test_queries,test_metadata):\n",
      "    ranking_file = validate_file + '-user-sim-ranking'\n",
      "    f = open(ranking_file, 'w')\n",
      "    f.write('SessionID,URLID\\n')\n",
      "    for test_query in test_queries:\n",
      "        session_id = test_query['session_id']\n",
      "        user_id = str(test_metadata[session_id])\n",
      "        user_clicks = []\n",
      "        if user_id in clicks:\n",
      "            user_clicks = extract_urls(clicks[user_id])\n",
      "        urls = list(zip(*test_query['list_of_urls_and_domains'])[0])\n",
      "        priority = []\n",
      "        # get most similar users\n",
      "        most_sim_users = most_similar(user_id,similarities)\n",
      "        # if similar users exist\n",
      "        if most_sim_users:\n",
      "            for su in most_sim_users:\n",
      "                # get clicks by similar user\n",
      "                su_clicks = extract_urls(clicks[str(su)])\n",
      "                # if clicks exist\n",
      "                if su_clicks:\n",
      "                    for sc in su_clicks:\n",
      "                        for url in urls:\n",
      "                            if url == sc:\n",
      "                                priority.append(url)\n",
      "                                urls.remove(url)\n",
      "                                break\n",
      "        # get user click history\n",
      "        if user_clicks:\n",
      "            for uc in user_clicks:\n",
      "                for url in urls:\n",
      "                    if url == uc:\n",
      "                        priority.append(url)\n",
      "                        urls.remove(url)\n",
      "                        break\n",
      "        reranked_urls = priority + urls\n",
      "        for url in reranked_urls:\n",
      "            f.write(str(session_id) + ',' + str(url) + '\\n')\n",
      "                        \n",
      "    f.close()\n",
      "    \n",
      "    final_DCG = compute_overall_score(ranking_file, get_rel_map(validate_file)) \n",
      "    return final_DCG"
     ],
     "language": "python",
     "metadata": {},
     "outputs": [],
     "prompt_number": 19
    },
    {
     "cell_type": "markdown",
     "metadata": {},
     "source": [
      "Below, we run both Methods on 'train-1000' to train a user similarity model and on 'validate-1000' to validate the model."
     ]
    },
    {
     "cell_type": "code",
     "collapsed": false,
     "input": [
      "train_file, n = 'train-1000', 1000\n",
      "validate_file = 'validate-1000'\n",
      "\n",
      "user_info, _ = extract_data(train_file,n)\n",
      "similarities, list_query_sim, list_sim_url = sim_network(user_info)\n",
      "_, _, test_queries, _, test_metadata = get_sessions(validate_file)\n",
      "clicks = get_clicks(train_file,n)\n"
     ],
     "language": "python",
     "metadata": {},
     "outputs": [],
     "prompt_number": 20
    },
    {
     "cell_type": "code",
     "collapsed": false,
     "input": [
      "'''\n",
      "Method 1 of Reranking (method: 'reranking_score')\n",
      "--------------------------------------------------\n",
      "Vary the weights of the two components:\n",
      "1) Query similarity score\n",
      "2) Number of identical URL\n",
      "to determine the optimal weighing of the aggregate similarity score\n",
      "'''\n",
      "\n",
      "w_query = 10\n",
      "w_url = 0\n",
      "\n",
      "for i in xrange(11):\n",
      "    similarities = calc_sim_score(similarities,list_query_sim,list_sim_url,w_query,w_url)\n",
      "    rerank_score = reranking_score(similarities,clicks,validate_file,test_queries,test_metadata)\n",
      "    print 'For query sub-score weight: ' + str(w_query) + ' and URL sub-score weight: ' + str(w_url)\n",
      "    print 'Score: ' + str(rerank_score)\n",
      "    w_query -= 1\n",
      "    w_url += 1"
     ],
     "language": "python",
     "metadata": {},
     "outputs": [
      {
       "output_type": "stream",
       "stream": "stdout",
       "text": [
        "For query sub-score weight: 10 and URL sub-score weight: 0\n",
        "Score: 0.835089602199\n",
        "For query sub-score weight: 9 and URL sub-score weight: 1"
       ]
      },
      {
       "output_type": "stream",
       "stream": "stdout",
       "text": [
        "\n",
        "Score: 0.835089602199\n",
        "For query sub-score weight: 8 and URL sub-score weight: 2"
       ]
      },
      {
       "output_type": "stream",
       "stream": "stdout",
       "text": [
        "\n",
        "Score: 0.835089602199\n",
        "For query sub-score weight: 7 and URL sub-score weight: 3"
       ]
      },
      {
       "output_type": "stream",
       "stream": "stdout",
       "text": [
        "\n",
        "Score: 0.835089602199\n",
        "For query sub-score weight: 6 and URL sub-score weight: 4"
       ]
      },
      {
       "output_type": "stream",
       "stream": "stdout",
       "text": [
        "\n",
        "Score: 0.835089602199\n",
        "For query sub-score weight: 5 and URL sub-score weight: 5"
       ]
      },
      {
       "output_type": "stream",
       "stream": "stdout",
       "text": [
        "\n",
        "Score: 0.835089602199\n",
        "For query sub-score weight: 4 and URL sub-score weight: 6"
       ]
      },
      {
       "output_type": "stream",
       "stream": "stdout",
       "text": [
        "\n",
        "Score: 0.835089602199\n",
        "For query sub-score weight: 3 and URL sub-score weight: 7"
       ]
      },
      {
       "output_type": "stream",
       "stream": "stdout",
       "text": [
        "\n",
        "Score: 0.835089602199\n",
        "For query sub-score weight: 2 and URL sub-score weight: 8"
       ]
      },
      {
       "output_type": "stream",
       "stream": "stdout",
       "text": [
        "\n",
        "Score: 0.835089602199\n",
        "For query sub-score weight: 1 and URL sub-score weight: 9"
       ]
      },
      {
       "output_type": "stream",
       "stream": "stdout",
       "text": [
        "\n",
        "Score: 0.835089602199\n",
        "For query sub-score weight: 0 and URL sub-score weight: 10"
       ]
      },
      {
       "output_type": "stream",
       "stream": "stdout",
       "text": [
        "\n",
        "Score: 0.835089602199\n"
       ]
      }
     ],
     "prompt_number": 21
    },
    {
     "cell_type": "code",
     "collapsed": false,
     "input": [
      "similarities, list_query_sim, list_sim_url = sim_network(user_info)\n",
      "_, _, test_queries, _, test_metadata = get_sessions(validate_file)"
     ],
     "language": "python",
     "metadata": {},
     "outputs": [],
     "prompt_number": 22
    },
    {
     "cell_type": "code",
     "collapsed": false,
     "input": [
      "'''\n",
      "Method 2 of Reranking (method: 'reranking_score_2')\n",
      "----------------------------------------------------\n",
      "Vary the weights of the two components:\n",
      "1) Query similarity score\n",
      "2) Number of identical URL\n",
      "to determine the optimal weighing of the aggregate similarity score\n",
      "'''\n",
      "\n",
      "w_query = 10\n",
      "w_url = 0\n",
      "\n",
      "for i in xrange(11):\n",
      "    similarities = calc_sim_score(similarities,list_query_sim,list_sim_url,w_query,w_url)\n",
      "    rerank_score = reranking_score_2(similarities,clicks,validate_file,test_queries,test_metadata)\n",
      "    print 'For query sub-score weight: ' + str(w_query) + ' and URL sub-score weight: ' + str(w_url)\n",
      "    print 'Score: ' + str(rerank_score)\n",
      "    w_query -= 1\n",
      "    w_url += 1"
     ],
     "language": "python",
     "metadata": {},
     "outputs": [
      {
       "output_type": "stream",
       "stream": "stdout",
       "text": [
        "For query sub-score weight: 10 and URL sub-score weight: 0\n",
        "Score: 0.835089602199\n",
        "For query sub-score weight: 9 and URL sub-score weight: 1"
       ]
      },
      {
       "output_type": "stream",
       "stream": "stdout",
       "text": [
        "\n",
        "Score: 0.835089602199\n",
        "For query sub-score weight: 8 and URL sub-score weight: 2"
       ]
      },
      {
       "output_type": "stream",
       "stream": "stdout",
       "text": [
        "\n",
        "Score: 0.835089602199\n",
        "For query sub-score weight: 7 and URL sub-score weight: 3"
       ]
      },
      {
       "output_type": "stream",
       "stream": "stdout",
       "text": [
        "\n",
        "Score: 0.835089602199\n",
        "For query sub-score weight: 6 and URL sub-score weight: 4"
       ]
      },
      {
       "output_type": "stream",
       "stream": "stdout",
       "text": [
        "\n",
        "Score: 0.835089602199\n",
        "For query sub-score weight: 5 and URL sub-score weight: 5"
       ]
      },
      {
       "output_type": "stream",
       "stream": "stdout",
       "text": [
        "\n",
        "Score: 0.835089602199\n",
        "For query sub-score weight: 4 and URL sub-score weight: 6"
       ]
      },
      {
       "output_type": "stream",
       "stream": "stdout",
       "text": [
        "\n",
        "Score: 0.835089602199\n",
        "For query sub-score weight: 3 and URL sub-score weight: 7"
       ]
      },
      {
       "output_type": "stream",
       "stream": "stdout",
       "text": [
        "\n",
        "Score: 0.835089602199\n",
        "For query sub-score weight: 2 and URL sub-score weight: 8"
       ]
      },
      {
       "output_type": "stream",
       "stream": "stdout",
       "text": [
        "\n",
        "Score: 0.835089602199\n",
        "For query sub-score weight: 1 and URL sub-score weight: 9"
       ]
      },
      {
       "output_type": "stream",
       "stream": "stdout",
       "text": [
        "\n",
        "Score: 0.835089602199\n",
        "For query sub-score weight: 0 and URL sub-score weight: 10"
       ]
      },
      {
       "output_type": "stream",
       "stream": "stdout",
       "text": [
        "\n",
        "Score: 0.835089602199\n"
       ]
      }
     ],
     "prompt_number": 23
    },
    {
     "cell_type": "markdown",
     "metadata": {},
     "source": [
      "All the DCG scores are the same, so there doesn't seem to be an optimal method or weights."
     ]
    }
   ],
   "metadata": {}
  }
 ]
}